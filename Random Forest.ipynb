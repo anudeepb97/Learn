{
 "cells": [
  {
   "cell_type": "code",
   "execution_count": 4,
   "id": "comparative-pencil",
   "metadata": {},
   "outputs": [],
   "source": [
    "import pandas as pd\n",
    "import numpy as np\n",
    "from sklearn.metrics import mean_absolute_error\n",
    "from sklearn.model_selection import train_test_split\n",
    "from sklearn.tree import DecisionTreeRegressor\n",
    "from sklearn.ensemble import RandomForestRegressor"
   ]
  },
  {
   "cell_type": "markdown",
   "id": "married-journal",
   "metadata": {},
   "source": [
    "Previous development"
   ]
  },
  {
   "cell_type": "code",
   "execution_count": 7,
   "id": "superior-booth",
   "metadata": {},
   "outputs": [
    {
     "name": "stdout",
     "output_type": "stream",
     "text": [
      "Validation MAE when not specifying max_leaf_nodes: 29653\n",
      "Validation MAE for best value of max_leaf_nodes: 27283\n"
     ]
    }
   ],
   "source": [
    "# Load the data\n",
    "home_data = pd.read_csv('./home-data-for-ml-course/train.csv')\n",
    "\n",
    "# Create target object and call it y\n",
    "y = home_data.SalePrice\n",
    "\n",
    "# Create X\n",
    "features = ['LotArea', 'YearBuilt', '1stFlrSF', '2ndFlrSF', 'FullBath', 'BedroomAbvGr', 'TotRmsAbvGrd']\n",
    "X = home_data[features]\n",
    "\n",
    "# Split into validation and training data\n",
    "train_X, val_X, train_y, val_y = train_test_split(X, y, random_state=1)\n",
    "\n",
    "# Specify Model\n",
    "iowa_model = DecisionTreeRegressor(random_state=1)\n",
    "\n",
    "# Fit Model\n",
    "iowa_model.fit(train_X, train_y)\n",
    "\n",
    "# Make validation predictions and calculate mean absolute error\n",
    "val_predictions = iowa_model.predict(val_X)\n",
    "val_mae = mean_absolute_error(val_predictions, val_y)\n",
    "print(f'Validation MAE when not specifying max_leaf_nodes: {val_mae:.0f}')\n",
    "\n",
    "# Using best value for max_leaf_nodes\n",
    "iowa_model = DecisionTreeRegressor(max_leaf_nodes=100, random_state=1)\n",
    "iowa_model.fit(train_X, train_y)\n",
    "val_predictions = iowa_model.predict(val_X)\n",
    "val_mae = mean_absolute_error(val_predictions, val_y)\n",
    "print(f'Validation MAE for best value of max_leaf_nodes: {val_mae:.0f}')"
   ]
  },
  {
   "cell_type": "markdown",
   "id": "speaking-cambodia",
   "metadata": {},
   "source": [
    "Let's try using Random Forest instead of Decision Tree"
   ]
  },
  {
   "cell_type": "code",
   "execution_count": 9,
   "id": "reliable-decision",
   "metadata": {},
   "outputs": [
    {
     "name": "stdout",
     "output_type": "stream",
     "text": [
      "Mean Absolute Error using Random Forest: 21857\n"
     ]
    }
   ],
   "source": [
    "# Define the model\n",
    "model_rf = RandomForestRegressor(random_state = 1)\n",
    "\n",
    "# Fit the model\n",
    "model_rf.fit(train_X, train_y)\n",
    "\n",
    "# Calculate the Mean Absolute Error of Random Forest model on the validation data\n",
    "rf_mae = mean_absolute_error(model_rf.predict(val_X), val_y)\n",
    "print(f'Mean Absolute Error using Random Forest: {rf_mae:.0f}')"
   ]
  },
  {
   "cell_type": "markdown",
   "id": "streaming-legislature",
   "metadata": {},
   "source": [
    "We found Random Forest model is performing better than Decison Tree on this data"
   ]
  }
 ],
 "metadata": {
  "kernelspec": {
   "display_name": "Python 3",
   "language": "python",
   "name": "python3"
  },
  "language_info": {
   "codemirror_mode": {
    "name": "ipython",
    "version": 3
   },
   "file_extension": ".py",
   "mimetype": "text/x-python",
   "name": "python",
   "nbconvert_exporter": "python",
   "pygments_lexer": "ipython3",
   "version": "3.9.2"
  }
 },
 "nbformat": 4,
 "nbformat_minor": 5
}
